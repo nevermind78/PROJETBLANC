{
 "cells": [
  {
   "cell_type": "code",
   "execution_count": 1,
   "metadata": {},
   "outputs": [
    {
     "name": "stdout",
     "output_type": "stream",
     "text": [
      "hello world\n"
     ]
    }
   ],
   "source": [
    "print('hello world')"
   ]
  },
  {
   "attachments": {},
   "cell_type": "markdown",
   "metadata": {},
   "source": []
  },
  {
   "cell_type": "code",
   "execution_count": 2,
   "metadata": {},
   "outputs": [],
   "source": [
    "import pandas as pd"
   ]
  },
  {
   "attachments": {},
   "cell_type": "markdown",
   "metadata": {},
   "source": []
  },
  {
   "cell_type": "code",
   "execution_count": null,
   "metadata": {},
   "outputs": [],
   "source": []
  },
  {
   "attachments": {},
   "cell_type": "markdown",
   "metadata": {},
   "source": [
    "# Dataset "
   ]
  },
  {
   "cell_type": "code",
   "execution_count": 7,
   "metadata": {},
   "outputs": [],
   "source": [
    "df=pd.read_csv(\"dataset/etudiants.csv\",sep=';')"
   ]
  },
  {
   "cell_type": "code",
   "execution_count": 8,
   "metadata": {},
   "outputs": [
    {
     "data": {
      "text/html": [
       "<div>\n",
       "<style scoped>\n",
       "    .dataframe tbody tr th:only-of-type {\n",
       "        vertical-align: middle;\n",
       "    }\n",
       "\n",
       "    .dataframe tbody tr th {\n",
       "        vertical-align: top;\n",
       "    }\n",
       "\n",
       "    .dataframe thead th {\n",
       "        text-align: right;\n",
       "    }\n",
       "</style>\n",
       "<table border=\"1\" class=\"dataframe\">\n",
       "  <thead>\n",
       "    <tr style=\"text-align: right;\">\n",
       "      <th></th>\n",
       "      <th>NumeroEtudiant</th>\n",
       "      <th>Prenom</th>\n",
       "      <th>Nom</th>\n",
       "      <th>Adresse</th>\n",
       "      <th>CodePostal</th>\n",
       "      <th>Ville</th>\n",
       "      <th>TelephoneFixe</th>\n",
       "      <th>TelephonePortable</th>\n",
       "    </tr>\n",
       "  </thead>\n",
       "  <tbody>\n",
       "    <tr>\n",
       "      <th>0</th>\n",
       "      <td>1</td>\n",
       "      <td>Emile</td>\n",
       "      <td>Caron</td>\n",
       "      <td>35 Rue de Port-à-loup</td>\n",
       "      <td>1957</td>\n",
       "      <td>Conpuygnuse</td>\n",
       "      <td>457943774</td>\n",
       "      <td>783088145</td>\n",
       "    </tr>\n",
       "    <tr>\n",
       "      <th>1</th>\n",
       "      <td>2</td>\n",
       "      <td>Jean-Pierre</td>\n",
       "      <td>Le bars</td>\n",
       "      <td>40 Avenue de Domrieu</td>\n",
       "      <td>49846</td>\n",
       "      <td>Bopord</td>\n",
       "      <td>301048989</td>\n",
       "      <td>768998409</td>\n",
       "    </tr>\n",
       "    <tr>\n",
       "      <th>2</th>\n",
       "      <td>3</td>\n",
       "      <td>Lionel</td>\n",
       "      <td>Paulin</td>\n",
       "      <td>48 Ruelle de Locvaux</td>\n",
       "      <td>74019</td>\n",
       "      <td>Mivran</td>\n",
       "      <td>396343400</td>\n",
       "      <td>752166514</td>\n",
       "    </tr>\n",
       "    <tr>\n",
       "      <th>3</th>\n",
       "      <td>4</td>\n",
       "      <td>Maxime</td>\n",
       "      <td>Bey</td>\n",
       "      <td>46 Impasse de Clairesdouves</td>\n",
       "      <td>6094</td>\n",
       "      <td>Magne</td>\n",
       "      <td>103297815</td>\n",
       "      <td>644028958</td>\n",
       "    </tr>\n",
       "    <tr>\n",
       "      <th>4</th>\n",
       "      <td>5</td>\n",
       "      <td>Damien</td>\n",
       "      <td>Poussin</td>\n",
       "      <td>42 Boulevard de Malecour</td>\n",
       "      <td>15323</td>\n",
       "      <td>Monmelame</td>\n",
       "      <td>488480048</td>\n",
       "      <td>745397226</td>\n",
       "    </tr>\n",
       "  </tbody>\n",
       "</table>\n",
       "</div>"
      ],
      "text/plain": [
       "   NumeroEtudiant       Prenom      Nom                      Adresse  \\\n",
       "0               1        Emile    Caron        35 Rue de Port-à-loup   \n",
       "1               2  Jean-Pierre  Le bars         40 Avenue de Domrieu   \n",
       "2               3       Lionel   Paulin         48 Ruelle de Locvaux   \n",
       "3               4       Maxime      Bey  46 Impasse de Clairesdouves   \n",
       "4               5       Damien  Poussin     42 Boulevard de Malecour   \n",
       "\n",
       "   CodePostal        Ville  TelephoneFixe  TelephonePortable  \n",
       "0        1957  Conpuygnuse      457943774          783088145  \n",
       "1       49846       Bopord      301048989          768998409  \n",
       "2       74019       Mivran      396343400          752166514  \n",
       "3        6094        Magne      103297815          644028958  \n",
       "4       15323    Monmelame      488480048          745397226  "
      ]
     },
     "execution_count": 8,
     "metadata": {},
     "output_type": "execute_result"
    }
   ],
   "source": [
    "df.head()"
   ]
  },
  {
   "cell_type": "code",
   "execution_count": 9,
   "metadata": {},
   "outputs": [
    {
     "data": {
      "text/plain": [
       "(85, 8)"
      ]
     },
     "execution_count": 9,
     "metadata": {},
     "output_type": "execute_result"
    }
   ],
   "source": [
    "df.shape"
   ]
  },
  {
   "cell_type": "code",
   "execution_count": 10,
   "metadata": {},
   "outputs": [
    {
     "data": {
      "text/plain": [
       "Index(['NumeroEtudiant', 'Prenom', 'Nom', 'Adresse', 'CodePostal', 'Ville',\n",
       "       'TelephoneFixe', 'TelephonePortable'],\n",
       "      dtype='object')"
      ]
     },
     "execution_count": 10,
     "metadata": {},
     "output_type": "execute_result"
    }
   ],
   "source": [
    "df.columns"
   ]
  },
  {
   "cell_type": "code",
   "execution_count": 11,
   "metadata": {},
   "outputs": [
    {
     "name": "stdout",
     "output_type": "stream",
     "text": [
      "<class 'pandas.core.frame.DataFrame'>\n",
      "RangeIndex: 85 entries, 0 to 84\n",
      "Data columns (total 8 columns):\n",
      " #   Column             Non-Null Count  Dtype \n",
      "---  ------             --------------  ----- \n",
      " 0   NumeroEtudiant     85 non-null     int64 \n",
      " 1   Prenom             85 non-null     object\n",
      " 2   Nom                85 non-null     object\n",
      " 3   Adresse            85 non-null     object\n",
      " 4   CodePostal         85 non-null     int64 \n",
      " 5   Ville              85 non-null     object\n",
      " 6   TelephoneFixe      85 non-null     int64 \n",
      " 7   TelephonePortable  85 non-null     int64 \n",
      "dtypes: int64(4), object(4)\n",
      "memory usage: 5.4+ KB\n"
     ]
    }
   ],
   "source": [
    "df.info()"
   ]
  },
  {
   "cell_type": "code",
   "execution_count": 17,
   "metadata": {},
   "outputs": [
    {
     "name": "stdout",
     "output_type": "stream",
     "text": [
      "|    |   NumeroEtudiant | Prenom      | Nom     | Adresse               |   CodePostal | Ville       |   TelephoneFixe |   TelephonePortable |\n",
      "|---:|-----------------:|:------------|:--------|:----------------------|-------------:|:------------|----------------:|--------------------:|\n",
      "|  0 |                1 | Emile       | Caron   | 35 Rue de Port-à-loup |         1957 | Conpuygnuse |       457943774 |           783088145 |\n",
      "|  1 |                2 | Jean-Pierre | Le bars | 40 Avenue de Domrieu  |        49846 | Bopord      |       301048989 |           768998409 |\n"
     ]
    }
   ],
   "source": [
    "print(df.head(2).to_markdown())"
   ]
  },
  {
   "cell_type": "code",
   "execution_count": null,
   "metadata": {},
   "outputs": [],
   "source": []
  }
 ],
 "metadata": {
  "kernelspec": {
   "display_name": "base",
   "language": "python",
   "name": "python3"
  },
  "language_info": {
   "codemirror_mode": {
    "name": "ipython",
    "version": 3
   },
   "file_extension": ".py",
   "mimetype": "text/x-python",
   "name": "python",
   "nbconvert_exporter": "python",
   "pygments_lexer": "ipython3",
   "version": "3.10.9"
  },
  "orig_nbformat": 4
 },
 "nbformat": 4,
 "nbformat_minor": 2
}
