{
  "nbformat": 4,
  "nbformat_minor": 0,
  "metadata": {
    "colab": {
      "provenance": [],
      "authorship_tag": "ABX9TyMcrhagVc+2c886acxCvVC1",
      "include_colab_link": true
    },
    "kernelspec": {
      "name": "python3",
      "display_name": "Python 3"
    },
    "language_info": {
      "name": "python"
    }
  },
  "cells": [
    {
      "cell_type": "markdown",
      "metadata": {
        "id": "view-in-github",
        "colab_type": "text"
      },
      "source": [
        "<a href=\"https://colab.research.google.com/github/nevermind78/PROJETBLANC/blob/master/TP3_FP.ipynb\" target=\"_parent\"><img src=\"https://colab.research.google.com/assets/colab-badge.svg\" alt=\"Open In Colab\"/></a>"
      ]
    },
    {
      "cell_type": "code",
      "execution_count": null,
      "metadata": {
        "id": "H_nsq9vR0ENx",
        "colab": {
          "base_uri": "https://localhost:8080/"
        },
        "outputId": "f1be73e4-944b-4516-82d1-7c68f118b3c9"
      },
      "outputs": [
        {
          "output_type": "stream",
          "name": "stdout",
          "text": [
            "8.538136380434166\n"
          ]
        },
        {
          "output_type": "execute_result",
          "data": {
            "text/plain": [
              "9"
            ]
          },
          "metadata": {},
          "execution_count": 5
        }
      ],
      "source": [
        "from math import log\n",
        "n=345252141\n",
        "print(log(n)/log(10))\n",
        "len(str(n))"
      ]
    },
    {
      "cell_type": "markdown",
      "source": [
        "# Functional Tools"
      ],
      "metadata": {
        "id": "mbpfEhYQ0Onm"
      }
    },
    {
      "cell_type": "code",
      "source": [
        "(lambda val: val ** 2)(5)"
      ],
      "metadata": {
        "colab": {
          "base_uri": "https://localhost:8080/"
        },
        "id": "0oHBbyur0QV9",
        "outputId": "0ca54b4b-73e5-45dd-c3cc-825776dd679b"
      },
      "execution_count": null,
      "outputs": [
        {
          "output_type": "execute_result",
          "data": {
            "text/plain": [
              "25"
            ]
          },
          "metadata": {},
          "execution_count": 1
        }
      ]
    },
    {
      "cell_type": "markdown",
      "source": [
        "# Challenge 1\n",
        "Ecrire une fonction **SommeC** qui prend un entier **n** comme input et retourne la somme des carrés de ces chiffres\n",
        "> **sommeC(1234)** ===> $1^2+2^2+3^2+4^2=30$\n",
        "\n",
        ">**sommeC(1001)** ===> $1^2+0^2+0^2+1^2=2$\n",
        "\n",
        "1) Avec le mot clé **def**\n",
        "\n",
        "2) Avec le mot clé **lambda**\n",
        "\n",
        "3) Optimiser votre solution sans utiliser de boucle **for**"
      ],
      "metadata": {
        "id": "f3GLLxck000_"
      }
    },
    {
      "cell_type": "code",
      "source": [
        "f=lambda n:sum([x**2 for x in [int(i) for i in list(str(n))]])"
      ],
      "metadata": {
        "id": "X0fLpzXd0V15"
      },
      "execution_count": null,
      "outputs": []
    },
    {
      "cell_type": "code",
      "source": [
        "list(filter(lambda x:f(x)==x, range(10**6)))"
      ],
      "metadata": {
        "colab": {
          "base_uri": "https://localhost:8080/"
        },
        "id": "tNsVuCBL3xa9",
        "outputId": "cbc8eeb9-7221-420c-9427-63bdfb3568e9"
      },
      "execution_count": null,
      "outputs": [
        {
          "output_type": "execute_result",
          "data": {
            "text/plain": [
              "[0, 1]"
            ]
          },
          "metadata": {},
          "execution_count": 9
        }
      ]
    },
    {
      "cell_type": "code",
      "source": [
        "list('abc')"
      ],
      "metadata": {
        "colab": {
          "base_uri": "https://localhost:8080/"
        },
        "id": "wEPLIrg54D7b",
        "outputId": "6d5854a5-29d3-4a3e-e02f-b2022458bc97"
      },
      "execution_count": null,
      "outputs": [
        {
          "output_type": "execute_result",
          "data": {
            "text/plain": [
              "['a', 'b', 'c']"
            ]
          },
          "metadata": {},
          "execution_count": 10
        }
      ]
    },
    {
      "cell_type": "code",
      "source": [],
      "metadata": {
        "id": "xHYVwdCF4vLS"
      },
      "execution_count": null,
      "outputs": []
    },
    {
      "cell_type": "code",
      "source": [
        "def sommeC(n):\n",
        "  ch=str(n)\n",
        "  s=0\n",
        "  for i in ch:\n",
        "    s=s+int(i)**2\n",
        "  return s"
      ],
      "metadata": {
        "id": "RPz7BGh542-a"
      },
      "execution_count": null,
      "outputs": []
    },
    {
      "cell_type": "code",
      "source": [
        "sommeC(1234)"
      ],
      "metadata": {
        "colab": {
          "base_uri": "https://localhost:8080/"
        },
        "id": "lvr3mxaJ5SZz",
        "outputId": "7a03b7dd-6b91-42ed-b4b6-be496dc32230"
      },
      "execution_count": null,
      "outputs": [
        {
          "output_type": "execute_result",
          "data": {
            "text/plain": [
              "30"
            ]
          },
          "metadata": {},
          "execution_count": 14
        }
      ]
    },
    {
      "cell_type": "code",
      "source": [
        "def sommeC(n):\n",
        "  return sum([int(i)**2 for i in list(str(n))])"
      ],
      "metadata": {
        "id": "6Tf2HX9-5UN6"
      },
      "execution_count": null,
      "outputs": []
    },
    {
      "cell_type": "code",
      "source": [
        "sommeC(1234)"
      ],
      "metadata": {
        "colab": {
          "base_uri": "https://localhost:8080/"
        },
        "id": "yQiNuUEt59FP",
        "outputId": "3df71a62-a051-4599-fdc4-9af9ab381563"
      },
      "execution_count": null,
      "outputs": [
        {
          "output_type": "execute_result",
          "data": {
            "text/plain": [
              "30"
            ]
          },
          "metadata": {},
          "execution_count": 16
        }
      ]
    },
    {
      "cell_type": "code",
      "source": [
        "sommeC=lambda n: sum([int(i)**2 for i in list(str(n))])"
      ],
      "metadata": {
        "id": "6Vp13-Dw6BUQ"
      },
      "execution_count": null,
      "outputs": []
    },
    {
      "cell_type": "code",
      "source": [
        "sommeC(4321)"
      ],
      "metadata": {
        "colab": {
          "base_uri": "https://localhost:8080/"
        },
        "id": "0D-Ayif46vN-",
        "outputId": "1e157a82-c933-4a9f-bfd6-782fe0cebfe0"
      },
      "execution_count": null,
      "outputs": [
        {
          "output_type": "execute_result",
          "data": {
            "text/plain": [
              "30"
            ]
          },
          "metadata": {},
          "execution_count": 18
        }
      ]
    },
    {
      "cell_type": "code",
      "source": [
        "sommeC=lambda n:sum(map(lambda i:int(i)**2,list(str(n))))"
      ],
      "metadata": {
        "id": "guI0AcWH6w9k"
      },
      "execution_count": null,
      "outputs": []
    },
    {
      "cell_type": "code",
      "source": [
        "sommeC(1234)"
      ],
      "metadata": {
        "colab": {
          "base_uri": "https://localhost:8080/"
        },
        "id": "mfVJiEVm8We2",
        "outputId": "12fa7265-fbd6-4af3-db3e-27d21deaf16d"
      },
      "execution_count": null,
      "outputs": [
        {
          "output_type": "execute_result",
          "data": {
            "text/plain": [
              "30"
            ]
          },
          "metadata": {},
          "execution_count": 23
        }
      ]
    },
    {
      "cell_type": "markdown",
      "source": [
        "# challenge 2\n",
        "## Nombre de Poisson : Nombre dont la somme des cubes de ses chiffres est égale à lui-même : $1^3 + 5^3 + 3^3 = 153.$\n",
        "\n",
        "1) Ecrire une fonction **Poisson** qui prend un entier **n** comme input et retourne **True** si c'est un nombre de **Poisson** , **False** sinon\n",
        "\n",
        "2) Trouver les nombres de Poissons qui sont inférieur ou égale à 10000\n",
        "\n",
        "a) En utilisant une implémentation faisant intervenir List comprehension\n",
        "\n",
        "b) En utilsant **filter**"
      ],
      "metadata": {
        "id": "IpXtYV9j9Zuz"
      }
    },
    {
      "cell_type": "code",
      "source": [
        "Poisson=lambda n : (sum(map(lambda i:int(i)**3,list(str(n))))==n)"
      ],
      "metadata": {
        "id": "8aORSm9z8upk"
      },
      "execution_count": null,
      "outputs": []
    },
    {
      "cell_type": "code",
      "source": [
        "Poisson(153)"
      ],
      "metadata": {
        "colab": {
          "base_uri": "https://localhost:8080/"
        },
        "id": "OZCQ0sGx_9Mi",
        "outputId": "206b130b-466c-4e8d-c125-2d5b59450813"
      },
      "execution_count": null,
      "outputs": [
        {
          "output_type": "execute_result",
          "data": {
            "text/plain": [
              "True"
            ]
          },
          "metadata": {},
          "execution_count": 28
        }
      ]
    },
    {
      "cell_type": "code",
      "source": [
        "[i for i in range(10001) if Poisson(i)]"
      ],
      "metadata": {
        "colab": {
          "base_uri": "https://localhost:8080/"
        },
        "id": "wx1V2oJXALo9",
        "outputId": "e8438e5a-4fa7-4713-b4a4-e4142658ac96"
      },
      "execution_count": null,
      "outputs": [
        {
          "output_type": "execute_result",
          "data": {
            "text/plain": [
              "[0, 1, 153, 370, 371, 407]"
            ]
          },
          "metadata": {},
          "execution_count": 29
        }
      ]
    },
    {
      "cell_type": "code",
      "source": [
        "list(filter(Poisson,range(10001)))"
      ],
      "metadata": {
        "colab": {
          "base_uri": "https://localhost:8080/"
        },
        "id": "MLG25evWAsuJ",
        "outputId": "82517cfd-b890-4994-d59a-bb97e10e724b"
      },
      "execution_count": null,
      "outputs": [
        {
          "output_type": "execute_result",
          "data": {
            "text/plain": [
              "[0, 1, 153, 370, 371, 407]"
            ]
          },
          "metadata": {},
          "execution_count": 31
        }
      ]
    },
    {
      "cell_type": "code",
      "source": [],
      "metadata": {
        "id": "xAh71LyJA7AH"
      },
      "execution_count": null,
      "outputs": []
    },
    {
      "cell_type": "markdown",
      "source": [
        "#Utiliser **map**"
      ],
      "metadata": {
        "id": "_yWI5uZYBYIZ"
      }
    },
    {
      "cell_type": "code",
      "source": [
        "A=['12', '-2', '0'] # =======> [12, -2, 0]\n",
        "list(map(int,A))"
      ],
      "metadata": {
        "colab": {
          "base_uri": "https://localhost:8080/"
        },
        "id": "F_YLbkCKBb_Y",
        "outputId": "382b22f5-c4f5-4d59-e31a-9d9cd1990e47"
      },
      "execution_count": null,
      "outputs": [
        {
          "output_type": "execute_result",
          "data": {
            "text/plain": [
              "[12, -2, 0]"
            ]
          },
          "metadata": {},
          "execution_count": 33
        }
      ]
    },
    {
      "cell_type": "code",
      "source": [
        "[int(x) for x in A]"
      ],
      "metadata": {
        "colab": {
          "base_uri": "https://localhost:8080/"
        },
        "id": "Lhh5ta9eB3n2",
        "outputId": "084b15ed-e852-46f8-a17a-51e8008754f0"
      },
      "execution_count": null,
      "outputs": [
        {
          "output_type": "execute_result",
          "data": {
            "text/plain": [
              "[12, -2, 0]"
            ]
          },
          "metadata": {},
          "execution_count": 34
        }
      ]
    },
    {
      "cell_type": "code",
      "source": [
        "B=['hello', 'world']#===> \t[5, 5]"
      ],
      "metadata": {
        "id": "UhrjfENyCB0n"
      },
      "execution_count": null,
      "outputs": []
    },
    {
      "cell_type": "code",
      "source": [
        "list(map(len,B))"
      ],
      "metadata": {
        "colab": {
          "base_uri": "https://localhost:8080/"
        },
        "id": "BthwZFESCKok",
        "outputId": "35a466ea-00e8-4df3-fe2a-4832fa92a022"
      },
      "execution_count": null,
      "outputs": [
        {
          "output_type": "execute_result",
          "data": {
            "text/plain": [
              "[5, 5]"
            ]
          },
          "metadata": {},
          "execution_count": 36
        }
      ]
    },
    {
      "cell_type": "code",
      "source": [
        "C=['hello', 'world']# ====>\t['olleh', 'dlrow']"
      ],
      "metadata": {
        "id": "uugEE977CP_7"
      },
      "execution_count": null,
      "outputs": []
    },
    {
      "cell_type": "code",
      "source": [
        "'abcdef'[::-1]"
      ],
      "metadata": {
        "colab": {
          "base_uri": "https://localhost:8080/",
          "height": 36
        },
        "id": "rlQU_kPXCW0K",
        "outputId": "f6eddbf6-6a1d-4e3e-d82f-55f00950d362"
      },
      "execution_count": null,
      "outputs": [
        {
          "output_type": "execute_result",
          "data": {
            "text/plain": [
              "'fedcba'"
            ],
            "application/vnd.google.colaboratory.intrinsic+json": {
              "type": "string"
            }
          },
          "metadata": {},
          "execution_count": 38
        }
      ]
    },
    {
      "cell_type": "code",
      "source": [
        "list(map(lambda ch:ch[::-1],C))"
      ],
      "metadata": {
        "colab": {
          "base_uri": "https://localhost:8080/"
        },
        "id": "nacPTntACjg8",
        "outputId": "8b30abe9-f014-416c-b69e-8f70ea46107b"
      },
      "execution_count": null,
      "outputs": [
        {
          "output_type": "execute_result",
          "data": {
            "text/plain": [
              "['olleh', 'dlrow']"
            ]
          },
          "metadata": {},
          "execution_count": 39
        }
      ]
    },
    {
      "cell_type": "code",
      "source": [
        "[mot[::-1] for mot in C]"
      ],
      "metadata": {
        "colab": {
          "base_uri": "https://localhost:8080/"
        },
        "id": "7jwj8aodC9_s",
        "outputId": "ffd07ae1-0984-4db6-d668-55746e127e3c"
      },
      "execution_count": null,
      "outputs": [
        {
          "output_type": "execute_result",
          "data": {
            "text/plain": [
              "['olleh', 'dlrow']"
            ]
          },
          "metadata": {},
          "execution_count": 40
        }
      ]
    },
    {
      "cell_type": "code",
      "source": [
        "range(2, 6) #(2,3,4,5)==>\t[(2, 4, 8), (3, 9, 27), (4, 16, 64), (5, 25, 125)]"
      ],
      "metadata": {
        "id": "Yih2TY_MDHqG"
      },
      "execution_count": null,
      "outputs": []
    },
    {
      "cell_type": "code",
      "source": [
        "list(map(lambda x:(x,x**2,x**3),range(2,6)))"
      ],
      "metadata": {
        "colab": {
          "base_uri": "https://localhost:8080/"
        },
        "id": "KsaLZoYwD5Ev",
        "outputId": "d01805f4-495a-441f-bc19-d9b6924b94e8"
      },
      "execution_count": null,
      "outputs": [
        {
          "output_type": "execute_result",
          "data": {
            "text/plain": [
              "[(2, 4, 8), (3, 9, 27), (4, 16, 64), (5, 25, 125)]"
            ]
          },
          "metadata": {},
          "execution_count": 41
        }
      ]
    },
    {
      "cell_type": "code",
      "source": [
        "zip(range(2, 5), range(3, 9, 2))#===>\t[6, 15, 28]"
      ],
      "metadata": {
        "colab": {
          "base_uri": "https://localhost:8080/"
        },
        "id": "R85pA55zEDTt",
        "outputId": "f394814c-49d4-4977-a609-1b1174d1a55b"
      },
      "execution_count": null,
      "outputs": [
        {
          "output_type": "execute_result",
          "data": {
            "text/plain": [
              "<zip at 0x7ff6cebf89c0>"
            ]
          },
          "metadata": {},
          "execution_count": 42
        }
      ]
    },
    {
      "cell_type": "code",
      "source": [
        "list(zip(range(2, 5), range(3, 9, 2)))"
      ],
      "metadata": {
        "colab": {
          "base_uri": "https://localhost:8080/"
        },
        "id": "gvljYYHvEL8o",
        "outputId": "e2c98d64-cafb-4d42-e988-2004225e892f"
      },
      "execution_count": null,
      "outputs": [
        {
          "output_type": "execute_result",
          "data": {
            "text/plain": [
              "[(2, 3), (3, 5), (4, 7)]"
            ]
          },
          "metadata": {},
          "execution_count": 44
        }
      ]
    },
    {
      "cell_type": "code",
      "source": [
        "list(zip([1,2,3],['a','b','c'],['first','second','third']))"
      ],
      "metadata": {
        "colab": {
          "base_uri": "https://localhost:8080/"
        },
        "id": "w35q1P88ESym",
        "outputId": "dcf71597-e5de-411f-b85f-0ffc83d4bd9c"
      },
      "execution_count": null,
      "outputs": [
        {
          "output_type": "execute_result",
          "data": {
            "text/plain": [
              "[(1, 'a', 'first'), (2, 'b', 'second'), (3, 'c', 'third')]"
            ]
          },
          "metadata": {},
          "execution_count": 47
        }
      ]
    },
    {
      "cell_type": "code",
      "source": [
        "list(map(lambda u:u[0]*u[1],zip(range(2, 5), range(3, 9, 2))))"
      ],
      "metadata": {
        "colab": {
          "base_uri": "https://localhost:8080/"
        },
        "id": "kWOw8q5rEdyA",
        "outputId": "ac765a96-940c-44ed-cd2a-6548044410c1"
      },
      "execution_count": null,
      "outputs": [
        {
          "output_type": "execute_result",
          "data": {
            "text/plain": [
              "[6, 15, 28]"
            ]
          },
          "metadata": {},
          "execution_count": 49
        }
      ]
    },
    {
      "cell_type": "code",
      "source": [
        "map()"
      ],
      "metadata": {
        "id": "gJs_0f8RFaVr"
      },
      "execution_count": null,
      "outputs": []
    },
    {
      "cell_type": "markdown",
      "source": [
        "# Filter"
      ],
      "metadata": {
        "id": "92-SPp8THX64"
      }
    },
    {
      "cell_type": "code",
      "source": [
        "X=['12', '-2', '0']# ==>\t['12', '0']"
      ],
      "metadata": {
        "id": "1yeQTrkNHZTx"
      },
      "execution_count": null,
      "outputs": []
    },
    {
      "cell_type": "code",
      "source": [
        "list(filter(lambda ch:ch[0]!='-',X))"
      ],
      "metadata": {
        "colab": {
          "base_uri": "https://localhost:8080/"
        },
        "id": "dlrGVio9HdDv",
        "outputId": "2c3335cb-eee2-4750-f346-364e7ef4f9ee"
      },
      "execution_count": null,
      "outputs": [
        {
          "output_type": "execute_result",
          "data": {
            "text/plain": [
              "['12', '0']"
            ]
          },
          "metadata": {},
          "execution_count": 54
        }
      ]
    },
    {
      "cell_type": "code",
      "source": [
        "Y=['hello', 'world','What']#==>\t['world']"
      ],
      "metadata": {
        "id": "449H9fy7Hike"
      },
      "execution_count": null,
      "outputs": []
    },
    {
      "cell_type": "code",
      "source": [
        "list(filter(lambda ch:ch[0]=='w',Y))"
      ],
      "metadata": {
        "colab": {
          "base_uri": "https://localhost:8080/"
        },
        "id": "_HvpJkIdHxlA",
        "outputId": "b5d50de6-72ca-4ebe-910a-b0e4a9aba9ac"
      },
      "execution_count": null,
      "outputs": [
        {
          "output_type": "execute_result",
          "data": {
            "text/plain": [
              "['world']"
            ]
          },
          "metadata": {},
          "execution_count": 59
        }
      ]
    },
    {
      "cell_type": "code",
      "source": [
        "Z=['Stanford', 'Cal', 'UCLA']\t#==>['Stanford']"
      ],
      "metadata": {
        "id": "DrphdN2RICUZ"
      },
      "execution_count": null,
      "outputs": []
    },
    {
      "cell_type": "code",
      "source": [
        "list(filter(lambda ch:len(ch)>4,Z))"
      ],
      "metadata": {
        "colab": {
          "base_uri": "https://localhost:8080/"
        },
        "id": "WngOr2TGIZ5y",
        "outputId": "1ff3483b-61db-4190-e21c-c22a26b65374"
      },
      "execution_count": null,
      "outputs": [
        {
          "output_type": "execute_result",
          "data": {
            "text/plain": [
              "['Stanford']"
            ]
          },
          "metadata": {},
          "execution_count": 61
        }
      ]
    },
    {
      "cell_type": "code",
      "source": [
        "range(20) #===>\t[0, 3, 5, 6, 9, 10, 12, 15, 18]"
      ],
      "metadata": {
        "colab": {
          "base_uri": "https://localhost:8080/"
        },
        "id": "PRxVUiUvInkL",
        "outputId": "71f79b36-b27a-4361-d802-7b016e19bc61"
      },
      "execution_count": null,
      "outputs": [
        {
          "output_type": "execute_result",
          "data": {
            "text/plain": [
              "range(0, 20)"
            ]
          },
          "metadata": {},
          "execution_count": 62
        }
      ]
    },
    {
      "cell_type": "code",
      "source": [
        "list(filter(lambda x:(x%3==0) or (x%5==0),range(20)))"
      ],
      "metadata": {
        "colab": {
          "base_uri": "https://localhost:8080/"
        },
        "id": "HZQ_ZLncIs9V",
        "outputId": "527c7a99-b0aa-4f40-cb9c-b709435f78ad"
      },
      "execution_count": null,
      "outputs": [
        {
          "output_type": "execute_result",
          "data": {
            "text/plain": [
              "[0, 3, 5, 6, 9, 10, 12, 15, 18]"
            ]
          },
          "metadata": {},
          "execution_count": 65
        }
      ]
    },
    {
      "cell_type": "code",
      "source": [
        "L=[1,2,1,4,5,1,56,321,1]"
      ],
      "metadata": {
        "id": "m1XYkDgRJeUd"
      },
      "execution_count": null,
      "outputs": []
    },
    {
      "cell_type": "code",
      "source": [
        "# Donner la ou les positions du minimum de la liste L"
      ],
      "metadata": {
        "id": "IHIQ8eAQJ_dx"
      },
      "execution_count": null,
      "outputs": []
    },
    {
      "cell_type": "code",
      "source": [
        "[pos for pos in range(len(L)) if L[pos]==min(L)]"
      ],
      "metadata": {
        "colab": {
          "base_uri": "https://localhost:8080/"
        },
        "id": "V_573cmGKU6Z",
        "outputId": "0ccc54ed-0b60-423b-a787-e96142376709"
      },
      "execution_count": null,
      "outputs": [
        {
          "output_type": "execute_result",
          "data": {
            "text/plain": [
              "[0, 2, 5, 8]"
            ]
          },
          "metadata": {},
          "execution_count": 69
        }
      ]
    },
    {
      "cell_type": "code",
      "source": [
        "list(filter(lambda pos:L[pos]==min(L),range(len(L))))"
      ],
      "metadata": {
        "colab": {
          "base_uri": "https://localhost:8080/"
        },
        "id": "QwMQleomMWb1",
        "outputId": "2823d003-b594-4851-c8c8-e1fb5bab8822"
      },
      "execution_count": null,
      "outputs": [
        {
          "output_type": "execute_result",
          "data": {
            "text/plain": [
              "[0, 2, 5, 8]"
            ]
          },
          "metadata": {},
          "execution_count": 70
        }
      ]
    },
    {
      "cell_type": "markdown",
      "source": [
        "## Efficient Phrases words that contains : 'BCDGIJLMNOPSUVWZ'"
      ],
      "metadata": {
        "id": "puV1HyaMNlD_"
      }
    },
    {
      "cell_type": "code",
      "source": [
        "\"COLD WINDOWSILL COOL MILLION VIVID DISILLUSIONS SUSPICIOUS CONCLUSION CHILLY WINDOW LEDGE GOOD THOUSAND THOUSAND GRAPHIC DISAPPOINTMENTS MISTRUSTFUL ENDING\".split()"
      ],
      "metadata": {
        "colab": {
          "base_uri": "https://localhost:8080/"
        },
        "id": "vTIulT9AM_fG",
        "outputId": "c1d9a48b-f68f-4d16-893f-8c7a20caffb6"
      },
      "execution_count": null,
      "outputs": [
        {
          "output_type": "execute_result",
          "data": {
            "text/plain": [
              "['COLD',\n",
              " 'WINDOWSILL',\n",
              " 'COOL',\n",
              " 'MILLION',\n",
              " 'VIVID',\n",
              " 'DISILLUSIONS',\n",
              " 'SUSPICIOUS',\n",
              " 'CONCLUSION',\n",
              " 'CHILLY',\n",
              " 'WINDOW',\n",
              " 'LEDGE',\n",
              " 'GOOD',\n",
              " 'THOUSAND',\n",
              " 'THOUSAND',\n",
              " 'GRAPHIC',\n",
              " 'DISAPPOINTMENTS',\n",
              " 'MISTRUSTFUL',\n",
              " 'ENDING']"
            ]
          },
          "metadata": {},
          "execution_count": 73
        }
      ]
    },
    {
      "cell_type": "code",
      "source": [
        "words=['COLD',\n",
        " 'WINDOWSILL',\n",
        " 'COOL',\n",
        " 'MILLION',\n",
        " 'VIVID',\n",
        " 'DISILLUSIONS',\n",
        " 'SUSPICIOUS',\n",
        " 'CONCLUSION',\n",
        " 'CHILLY',\n",
        " 'WINDOW',\n",
        " 'LEDGE',\n",
        " 'GOOD',\n",
        " 'THOUSAND',\n",
        " 'THOUSAND',\n",
        " 'GRAPHIC',\n",
        " 'DISAPPOINTMENTS',\n",
        " 'MISTRUSTFUL',\n",
        " 'ENDING']"
      ],
      "metadata": {
        "id": "yzpQH9N6O2jl"
      },
      "execution_count": null,
      "outputs": []
    },
    {
      "cell_type": "code",
      "source": [
        "eff='BCDGIJLMNOPSUVWZ'\n",
        "#Donner la listes des mots \"efficient\" parmis les mos de la liste words:\n",
        "#un mot est \" efficient\" si ses lettres se trouve dans 'BCDGIJLMNOPSUVWZ'"
      ],
      "metadata": {
        "id": "CkRXdfByQKKX"
      },
      "execution_count": null,
      "outputs": []
    },
    {
      "cell_type": "code",
      "source": [
        "def EFFICIENT(ch):\n",
        "  eff='BCDGIJLMNOPSUVWZ'\n",
        "  b=True\n",
        "  i=0\n",
        "  while i <len(ch):\n",
        "    if ch[i] not in eff:\n",
        "      b=False\n",
        "      break\n",
        "    i+=1\n",
        "  return b"
      ],
      "metadata": {
        "id": "uI-aJPUKQOZI"
      },
      "execution_count": null,
      "outputs": []
    },
    {
      "cell_type": "code",
      "source": [
        "EFFICIENT('ENDING')"
      ],
      "metadata": {
        "colab": {
          "base_uri": "https://localhost:8080/"
        },
        "id": "cKTX0K_doCLD",
        "outputId": "c37c867a-f2da-44e2-ae99-c0086a8aad7d"
      },
      "execution_count": null,
      "outputs": [
        {
          "output_type": "execute_result",
          "data": {
            "text/plain": [
              "False"
            ]
          },
          "metadata": {},
          "execution_count": 5
        }
      ]
    },
    {
      "cell_type": "code",
      "source": [
        "set('GOOD')<=set(eff)"
      ],
      "metadata": {
        "colab": {
          "base_uri": "https://localhost:8080/"
        },
        "id": "c4Rrr_IeoNhP",
        "outputId": "e5f70b45-4430-4d38-8210-71396cc9894c"
      },
      "execution_count": null,
      "outputs": [
        {
          "output_type": "execute_result",
          "data": {
            "text/plain": [
              "True"
            ]
          },
          "metadata": {},
          "execution_count": 9
        }
      ]
    },
    {
      "cell_type": "code",
      "source": [
        "list(filter(lambda ch:set(ch)<=set(eff),words))"
      ],
      "metadata": {
        "colab": {
          "base_uri": "https://localhost:8080/"
        },
        "id": "dcP-4eJNpctb",
        "outputId": "169da3dc-5f25-4eb8-fd22-3cf23999ebfe"
      },
      "execution_count": null,
      "outputs": [
        {
          "output_type": "execute_result",
          "data": {
            "text/plain": [
              "['COLD',\n",
              " 'WINDOWSILL',\n",
              " 'COOL',\n",
              " 'MILLION',\n",
              " 'VIVID',\n",
              " 'DISILLUSIONS',\n",
              " 'SUSPICIOUS',\n",
              " 'CONCLUSION',\n",
              " 'WINDOW',\n",
              " 'GOOD']"
            ]
          },
          "metadata": {},
          "execution_count": 13
        }
      ]
    },
    {
      "cell_type": "code",
      "source": [
        "from functools import reduce\n",
        "reduce(lambda x,y:x+y,[3,4,2,1],0)"
      ],
      "metadata": {
        "id": "aD6UudZPp1Lv",
        "colab": {
          "base_uri": "https://localhost:8080/"
        },
        "outputId": "5d233f93-6dd5-4fd0-d3e2-70ae11e78154"
      },
      "execution_count": null,
      "outputs": [
        {
          "output_type": "execute_result",
          "data": {
            "text/plain": [
              "10"
            ]
          },
          "metadata": {},
          "execution_count": 3
        }
      ]
    },
    {
      "cell_type": "code",
      "source": [
        "[ print(x) for x in range(3)]"
      ],
      "metadata": {
        "colab": {
          "base_uri": "https://localhost:8080/"
        },
        "id": "siwDIRQkffmE",
        "outputId": "80295918-c620-4e80-c245-948b0b94587d"
      },
      "execution_count": null,
      "outputs": [
        {
          "output_type": "stream",
          "name": "stdout",
          "text": [
            "0\n",
            "1\n",
            "2\n"
          ]
        },
        {
          "output_type": "execute_result",
          "data": {
            "text/plain": [
              "[None, None, None]"
            ]
          },
          "metadata": {},
          "execution_count": 4
        }
      ]
    },
    {
      "cell_type": "code",
      "source": [
        "x1=10\n",
        "x2=23\n",
        "#..\n",
        "\n",
        "\n",
        "\n",
        "\n",
        "x20=15\n",
        "print(x1+x20)"
      ],
      "metadata": {
        "id": "Ke71tox0gKSI"
      },
      "execution_count": null,
      "outputs": []
    },
    {
      "cell_type": "code",
      "source": [
        "import random"
      ],
      "metadata": {
        "id": "F30XZJLtg4GD"
      },
      "execution_count": null,
      "outputs": []
    },
    {
      "cell_type": "code",
      "source": [
        "script='\\n'.join((f'x{i}={random.randint(1,100)}' for i in range(1,21)))\n",
        "script+='\\nprint(x1+x2+20)'"
      ],
      "metadata": {
        "id": "YHcJxGbvgecJ"
      },
      "execution_count": null,
      "outputs": []
    },
    {
      "cell_type": "code",
      "source": [
        "print(script)"
      ],
      "metadata": {
        "colab": {
          "base_uri": "https://localhost:8080/"
        },
        "id": "qMlF1ju2hD1i",
        "outputId": "95a7fde8-90a3-476c-d990-9790931667d9"
      },
      "execution_count": null,
      "outputs": [
        {
          "output_type": "stream",
          "name": "stdout",
          "text": [
            "x1=98\n",
            "x2=38\n",
            "x3=60\n",
            "x4=37\n",
            "x5=69\n",
            "x6=57\n",
            "x7=49\n",
            "x8=43\n",
            "x9=72\n",
            "x10=18\n",
            "x11=67\n",
            "x12=65\n",
            "x13=68\n",
            "x14=52\n",
            "x15=77\n",
            "x16=68\n",
            "x17=67\n",
            "x18=96\n",
            "x19=54\n",
            "x20=60\n",
            "print(x1+x2+20)\n"
          ]
        }
      ]
    },
    {
      "cell_type": "code",
      "source": [
        "exec(script)"
      ],
      "metadata": {
        "colab": {
          "base_uri": "https://localhost:8080/"
        },
        "id": "fgFrSEgkhWCC",
        "outputId": "0a330850-d397-4b5a-9678-764c6588a3fc"
      },
      "execution_count": null,
      "outputs": [
        {
          "output_type": "stream",
          "name": "stdout",
          "text": [
            "156\n"
          ]
        }
      ]
    },
    {
      "cell_type": "code",
      "source": [
        "x = ['ab', 'cd']\n",
        "for i in x:\n",
        "    i.upper()\n",
        "print(x)"
      ],
      "metadata": {
        "id": "pBgrTHg3hcJQ",
        "colab": {
          "base_uri": "https://localhost:8080/"
        },
        "outputId": "63746a78-7243-47e0-a5e0-07fce30f11fd"
      },
      "execution_count": null,
      "outputs": [
        {
          "output_type": "stream",
          "name": "stdout",
          "text": [
            "['ab', 'cd']\n"
          ]
        }
      ]
    },
    {
      "cell_type": "code",
      "source": [
        "i = 2\n",
        "while True:\n",
        "    if i%3 == 0:\n",
        "        break\n",
        "    print(i,end=' ')\n",
        "    i += 2"
      ],
      "metadata": {
        "colab": {
          "base_uri": "https://localhost:8080/"
        },
        "id": "CTRTEORV6p_k",
        "outputId": "2d6dd284-561c-4b4e-eb6e-08f0b3af6c44"
      },
      "execution_count": null,
      "outputs": [
        {
          "output_type": "stream",
          "name": "stdout",
          "text": [
            "2 4 "
          ]
        }
      ]
    },
    {
      "cell_type": "code",
      "source": [
        "def display(b, n):\n",
        "    while n > 0:\n",
        "        print(b*n,end=\" \")\n",
        "        n=n-1\n",
        "display('z',3)"
      ],
      "metadata": {
        "colab": {
          "base_uri": "https://localhost:8080/"
        },
        "id": "jlnfq_NG7PPs",
        "outputId": "69f145b9-98e4-40b9-fec6-8a118ce431c8"
      },
      "execution_count": null,
      "outputs": [
        {
          "output_type": "stream",
          "name": "stdout",
          "text": [
            "zzz zz z "
          ]
        }
      ]
    },
    {
      "cell_type": "code",
      "source": [
        "a= [1, 2, 3, 4, 5]\n",
        "for i in range(1, 5):\n",
        "    a[i-1] = a[i]\n",
        "for i in range(0, 5):\n",
        "    print(a[i],end = \" \")"
      ],
      "metadata": {
        "colab": {
          "base_uri": "https://localhost:8080/"
        },
        "id": "Vkmxefss8K9c",
        "outputId": "b1fe39ee-0a16-4fdc-fdaf-c741079c2b51"
      },
      "execution_count": null,
      "outputs": [
        {
          "output_type": "stream",
          "name": "stdout",
          "text": [
            "2 3 4 5 5 "
          ]
        }
      ]
    },
    {
      "cell_type": "code",
      "source": [
        "def append_twice(a, lst=[]):\n",
        "        \"\"\"Append a value to a list twice.\"\"\"\n",
        "        lst.append(a)\n",
        "        lst.append(a)\n",
        "        return lst\n",
        "\n",
        "print(append_twice(11, lst=[2, 3, 5, 7]))\n",
        "print(append_twice(1))\n",
        "print(append_twice(2))\n",
        "print(append_twice(3))"
      ],
      "metadata": {
        "colab": {
          "base_uri": "https://localhost:8080/"
        },
        "id": "8PlZOCet8sd4",
        "outputId": "6c563186-ded9-4d76-cb5a-7fb31e6b2d73"
      },
      "execution_count": null,
      "outputs": [
        {
          "output_type": "stream",
          "name": "stdout",
          "text": [
            "[2, 3, 5, 7, 11, 11]\n",
            "[1, 1]\n",
            "[1, 1, 2, 2]\n",
            "[1, 1, 2, 2, 3, 3]\n"
          ]
        }
      ]
    },
    {
      "cell_type": "code",
      "source": [
        "import this"
      ],
      "metadata": {
        "colab": {
          "base_uri": "https://localhost:8080/"
        },
        "id": "8kp_W1yI_9C3",
        "outputId": "5f6a4920-c0f8-4b15-af58-aa19a67e984a"
      },
      "execution_count": null,
      "outputs": [
        {
          "output_type": "stream",
          "name": "stdout",
          "text": [
            "The Zen of Python, by Tim Peters\n",
            "\n",
            "Beautiful is better than ugly.\n",
            "Explicit is better than implicit.\n",
            "Simple is better than complex.\n",
            "Complex is better than complicated.\n",
            "Flat is better than nested.\n",
            "Sparse is better than dense.\n",
            "Readability counts.\n",
            "Special cases aren't special enough to break the rules.\n",
            "Although practicality beats purity.\n",
            "Errors should never pass silently.\n",
            "Unless explicitly silenced.\n",
            "In the face of ambiguity, refuse the temptation to guess.\n",
            "There should be one-- and preferably only one --obvious way to do it.\n",
            "Although that way may not be obvious at first unless you're Dutch.\n",
            "Now is better than never.\n",
            "Although never is often better than *right* now.\n",
            "If the implementation is hard to explain, it's a bad idea.\n",
            "If the implementation is easy to explain, it may be a good idea.\n",
            "Namespaces are one honking great idea -- let's do more of those!\n"
          ]
        }
      ]
    },
    {
      "cell_type": "code",
      "source": [],
      "metadata": {
        "id": "2oOzOzI8DJ4m"
      },
      "execution_count": null,
      "outputs": []
    }
  ]
}